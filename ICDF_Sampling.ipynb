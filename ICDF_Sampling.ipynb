{
  "nbformat": 4,
  "nbformat_minor": 0,
  "metadata": {
    "colab": {
      "name": "ICDF-Sampling.ipynb",
      "provenance": [],
      "collapsed_sections": [],
      "authorship_tag": "ABX9TyOGFOQNjMVrvYtaeKV0Gwzg",
      "include_colab_link": true
    },
    "kernelspec": {
      "name": "python3",
      "display_name": "Python 3"
    },
    "language_info": {
      "name": "python"
    }
  },
  "cells": [
    {
      "cell_type": "markdown",
      "metadata": {
        "id": "view-in-github",
        "colab_type": "text"
      },
      "source": [
        "<a href=\"https://colab.research.google.com/github/seabay/ml_practice/blob/master/ICDF_Sampling.ipynb\" target=\"_parent\"><img src=\"https://colab.research.google.com/assets/colab-badge.svg\" alt=\"Open In Colab\"/></a>"
      ]
    },
    {
      "cell_type": "code",
      "metadata": {
        "id": "kn3Jwb7VT_Kr"
      },
      "source": [
        "import numpy as np\n",
        "from matplotlib import pyplot as plt"
      ],
      "execution_count": 19,
      "outputs": []
    },
    {
      "cell_type": "code",
      "metadata": {
        "id": "Fleo54jkUC_W"
      },
      "source": [
        "# G PDF = x*0.002222\n",
        "# G CDF = 0.001111 * x^2\n",
        "# G inverted CDF = (1000 * sqrt(x)) / sqrt(1111)"
      ],
      "execution_count": 2,
      "outputs": []
    },
    {
      "cell_type": "code",
      "metadata": {
        "id": "-PtkH9c5UJ5b"
      },
      "source": [
        "def icdf():\n",
        "  x=np.random.uniform(0,1,1)[0]\n",
        "  return 1000.0 * np.sqrt(x) / np.sqrt(1111.0)"
      ],
      "execution_count": 20,
      "outputs": []
    },
    {
      "cell_type": "code",
      "metadata": {
        "id": "9zG5ZS7KUdtO"
      },
      "source": [
        "samples=sorted([icdf() for i in range(100)])"
      ],
      "execution_count": 23,
      "outputs": []
    },
    {
      "cell_type": "code",
      "metadata": {
        "colab": {
          "base_uri": "https://localhost:8080/",
          "height": 282
        },
        "id": "d7EjdlwjUieI",
        "outputId": "f28e64d8-919f-4440-9ad9-c002b37c5dba"
      },
      "source": [
        "plt.plot(samples)"
      ],
      "execution_count": 24,
      "outputs": [
        {
          "output_type": "execute_result",
          "data": {
            "text/plain": [
              "[<matplotlib.lines.Line2D at 0x7f7f3649b390>]"
            ]
          },
          "metadata": {
            "tags": []
          },
          "execution_count": 24
        },
        {
          "output_type": "display_data",
          "data": {
            "image/png": "[encoded data removed]",
            "text/plain": [
              "<Figure size 432x288 with 1 Axes>"
            ]
          },
          "metadata": {
            "tags": [],
            "needs_background": "light"
          }
        }
      ]
    },
    {
      "cell_type": "code",
      "metadata": {
        "colab": {
          "base_uri": "https://localhost:8080/"
        },
        "id": "GS4IOooQVPVu",
        "outputId": "910f0dd2-6eb5-4f0a-d626-c47ea38ed865"
      },
      "source": [
        "hist, bin_edges = np.histogram(samples, 10, density=True)\n",
        "hist"
      ],
      "execution_count": 33,
      "outputs": [
        {
          "output_type": "execute_result",
          "data": {
            "text/plain": [
              "array([0.01146612, 0.02293223, 0.01911019, 0.03439835, 0.03439835,\n",
              "       0.0496865 , 0.05733058, 0.03822039, 0.06115262, 0.05350854])"
            ]
          },
          "metadata": {
            "tags": []
          },
          "execution_count": 33
        }
      ]
    },
    {
      "cell_type": "code",
      "metadata": {
        "colab": {
          "base_uri": "https://localhost:8080/",
          "height": 435
        },
        "id": "3eJeaOcZV4wV",
        "outputId": "ddaf90eb-51fb-4162-b86f-808f468bdefe"
      },
      "source": [
        "plt.hist(samples, bins=30)"
      ],
      "execution_count": 42,
      "outputs": [
        {
          "output_type": "execute_result",
          "data": {
            "text/plain": [
              "(array([1., 1., 1., 3., 1., 2., 1., 2., 2., 2., 3., 4., 3., 2., 4., 6., 4.,\n",
              "        3., 4., 3., 8., 2., 4., 4., 8., 2., 6., 3., 4., 7.]),\n",
              " array([ 3.54097978,  4.41311472,  5.28524966,  6.1573846 ,  7.02951954,\n",
              "         7.90165448,  8.77378942,  9.64592436, 10.51805929, 11.39019423,\n",
              "        12.26232917, 13.13446411, 14.00659905, 14.87873399, 15.75086893,\n",
              "        16.62300387, 17.49513881, 18.36727375, 19.23940869, 20.11154363,\n",
              "        20.98367856, 21.8558135 , 22.72794844, 23.60008338, 24.47221832,\n",
              "        25.34435326, 26.2164882 , 27.08862314, 27.96075808, 28.83289302,\n",
              "        29.70502796]),\n",
              " <a list of 30 Patch objects>)"
            ]
          },
          "metadata": {
            "tags": []
          },
          "execution_count": 42
        },
        {
          "output_type": "display_data",
          "data": {
            "image/png": "[encoded data removed]",
            "text/plain": [
              "<Figure size 432x288 with 1 Axes>"
            ]
          },
          "metadata": {
            "tags": [],
            "needs_background": "light"
          }
        }
      ]
    },
    {
      "cell_type": "code",
      "metadata": {
        "id": "CEmb12vTV6cO"
      },
      "source": [
        ""
      ],
      "execution_count": null,
      "outputs": []
    }
  ]
}