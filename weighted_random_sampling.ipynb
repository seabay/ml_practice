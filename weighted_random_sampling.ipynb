{
  "nbformat": 4,
  "nbformat_minor": 0,
  "metadata": {
    "colab": {
      "name": "weighted_random_sampling.ipynb",
      "provenance": [],
      "collapsed_sections": [],
      "authorship_tag": "ABX9TyNShwNkQxp95V9Sws2/nQri",
      "include_colab_link": true
    },
    "kernelspec": {
      "name": "python3",
      "display_name": "Python 3"
    },
    "language_info": {
      "name": "python"
    }
  },
  "cells": [
    {
      "cell_type": "markdown",
      "metadata": {
        "id": "view-in-github",
        "colab_type": "text"
      },
      "source": [
        "<a href=\"https://colab.research.google.com/github/seabay/ml_practice/blob/master/weighted_random_sampling.ipynb\" target=\"_parent\"><img src=\"https://colab.research.google.com/assets/colab-badge.svg\" alt=\"Open In Colab\"/></a>"
      ]
    },
    {
      "cell_type": "code",
      "metadata": {
        "id": "4xpKgKBrhVeX"
      },
      "source": [
        "import random\n",
        "from collections import defaultdict, Counter\n",
        "import time"
      ],
      "execution_count": null,
      "outputs": []
    },
    {
      "cell_type": "code",
      "metadata": {
        "id": "yRv5Q4Sng6uk"
      },
      "source": [
        "def wsample(samples, n):\n",
        "\n",
        "  ret=defaultdict(float)\n",
        "  random.seed(time.time())\n",
        "  for item in samples:\n",
        "    ele=item[0]\n",
        "    w=item[1]\n",
        "\n",
        "    r=random.uniform(0,1)\n",
        "    v=r**(1/w)\n",
        "\n",
        "    ret[ele]=v\n",
        "  return list(sorted(ret, key=ret.get, reverse=True))[0:n]\n",
        "\n"
      ],
      "execution_count": null,
      "outputs": []
    },
    {
      "cell_type": "code",
      "metadata": {
        "id": "yK2D2bc-iSgu"
      },
      "source": [
        "samples=[('a', 0.4), ('b', 0.3), ('c', 0.2), ('d', 0.05), ('e', 0.03), ('f', 0.02)]"
      ],
      "execution_count": null,
      "outputs": []
    },
    {
      "cell_type": "code",
      "metadata": {
        "colab": {
          "base_uri": "https://localhost:8080/"
        },
        "id": "EYC3opMBiZ23",
        "outputId": "7c7d5552-eea6-4b0f-99eb-cf6d5699533e"
      },
      "source": [
        "ret=wsample(samples, 1)\n",
        "ret"
      ],
      "execution_count": null,
      "outputs": [
        {
          "output_type": "execute_result",
          "data": {
            "text/plain": [
              "['b']"
            ]
          },
          "metadata": {
            "tags": []
          },
          "execution_count": 84
        }
      ]
    },
    {
      "cell_type": "code",
      "metadata": {
        "id": "EzcH5iEUigtd"
      },
      "source": [
        "ret=[item for i in range(100000) for item in wsample(samples, 1) ]"
      ],
      "execution_count": null,
      "outputs": []
    },
    {
      "cell_type": "code",
      "metadata": {
        "colab": {
          "base_uri": "https://localhost:8080/"
        },
        "id": "IVrbFlAj0T6V",
        "outputId": "abe56182-d639-4b6e-ce67-4cece8750c95"
      },
      "source": [
        "ret[0:10]"
      ],
      "execution_count": null,
      "outputs": [
        {
          "output_type": "execute_result",
          "data": {
            "text/plain": [
              "['c', 'c', 'b', 'b', 'b', 'e', 'd', 'b', 'a', 'a']"
            ]
          },
          "metadata": {
            "tags": []
          },
          "execution_count": 86
        }
      ]
    },
    {
      "cell_type": "code",
      "metadata": {
        "id": "kFuyiUUjilRu"
      },
      "source": [
        "ret=Counter(ret)"
      ],
      "execution_count": null,
      "outputs": []
    },
    {
      "cell_type": "code",
      "metadata": {
        "colab": {
          "base_uri": "https://localhost:8080/"
        },
        "id": "LdiEoIZAkiCD",
        "outputId": "b60b3a2d-00cc-4bfc-ef9e-f11f63bd9558"
      },
      "source": [
        "ret"
      ],
      "execution_count": null,
      "outputs": [
        {
          "output_type": "execute_result",
          "data": {
            "text/plain": [
              "Counter({'a': 40108, 'b': 29945, 'c': 19953, 'd': 5006, 'e': 2985, 'f': 2003})"
            ]
          },
          "metadata": {
            "tags": []
          },
          "execution_count": 88
        }
      ]
    },
    {
      "cell_type": "code",
      "metadata": {
        "id": "AXyQ2TB1korx"
      },
      "source": [
        ""
      ],
      "execution_count": null,
      "outputs": []
    },
    {
      "cell_type": "markdown",
      "metadata": {
        "id": "ZyHYD20_DfAW"
      },
      "source": [
        "有放回抽样"
      ]
    },
    {
      "cell_type": "code",
      "metadata": {
        "id": "KZz2-U42Dg3M"
      },
      "source": [
        "# https://guyuecanhui.github.io/2020/12/05/weighted-sample/\n",
        "\n",
        "import numpy as np\n",
        "import numpy.random as npr\n",
        "\n",
        "class AliasMethodSampling:\n",
        "    def __init__(self, p):\n",
        "        self.prob, self.alias = self._setup_alias(p)\n",
        "    \n",
        "    def _setup_alias(self, p):\n",
        "        small, large = [], []\n",
        "        n = len(p)\n",
        "        prob, alias = np.zeros(n), np.zeros(n, dtype=np.int)\n",
        "        # init small and large array\n",
        "        for i, pi in enumerate(p):\n",
        "            prob[i] = pi * n\n",
        "            small.append(i) if prob[i] < 1.0 else large.append(i)\n",
        "        # fill a small element each iteration\n",
        "        while small and large:\n",
        "            il, ig = small.pop(), large.pop()\n",
        "            alias[il] = ig\n",
        "            prob[ig] = (prob[ig] + prob[il]) - 1\n",
        "            small.append(ig) if prob[ig] < 1 else large.append(ig)\n",
        "        # handle numerical instability\n",
        "        while large:\n",
        "            print('only large exists', prob, alias, large, small)\n",
        "            prob[large.pop()] = 1\n",
        "        while small:\n",
        "            print('only small exists', prob, alias, large, small)\n",
        "            prob[small.pop()] = 1\n",
        "        return prob, alias\n",
        "        \n",
        "    def take_sample(self):\n",
        "        i_rand = npr.randint(len(self.prob))\n",
        "        return i_rand if npr.rand() < self.prob[i_rand] else self.alias[i_rand]"
      ],
      "execution_count": 1,
      "outputs": []
    },
    {
      "cell_type": "code",
      "metadata": {
        "id": "QO80ZnQ4DhYw"
      },
      "source": [
        "probs, cnt = [0.1, 0.5, 0.2, 0.05, 0.15], np.zeros(5)"
      ],
      "execution_count": 2,
      "outputs": []
    },
    {
      "cell_type": "code",
      "metadata": {
        "colab": {
          "base_uri": "https://localhost:8080/"
        },
        "id": "-T5tStNyDpaG",
        "outputId": "8b842483-13ac-4a25-96ce-a87396fd3930"
      },
      "source": [
        "alias = AliasMethodSampling(probs)"
      ],
      "execution_count": 3,
      "outputs": [
        {
          "output_type": "stream",
          "text": [
            "only large exists [0.5  1.   0.75 0.25 0.75] [1 0 1 1 2] [1] []\n"
          ],
          "name": "stdout"
        }
      ]
    },
    {
      "cell_type": "code",
      "metadata": {
        "id": "xUyWRzEMDtuC"
      },
      "source": [
        ""
      ],
      "execution_count": null,
      "outputs": []
    },
    {
      "cell_type": "code",
      "metadata": {
        "colab": {
          "base_uri": "https://localhost:8080/"
        },
        "id": "Dolv-wK8Dswd",
        "outputId": "e05aae7a-d425-4fd6-e286-2d8a2f976e49"
      },
      "source": [
        "for i in range(1000000):\n",
        "    cnt[alias.take_sample()] += 1\n",
        "    \n",
        "cnt / 1000000"
      ],
      "execution_count": 4,
      "outputs": [
        {
          "output_type": "execute_result",
          "data": {
            "text/plain": [
              "array([0.09991 , 0.50091 , 0.19996 , 0.049804, 0.149416])"
            ]
          },
          "metadata": {
            "tags": []
          },
          "execution_count": 4
        }
      ]
    },
    {
      "cell_type": "code",
      "metadata": {
        "id": "CgcSzdAZFPsP"
      },
      "source": [
        ""
      ],
      "execution_count": null,
      "outputs": []
    },
    {
      "cell_type": "code",
      "metadata": {
        "id": "kzoh2VJYFPu3"
      },
      "source": [
        ""
      ],
      "execution_count": null,
      "outputs": []
    },
    {
      "cell_type": "code",
      "metadata": {
        "colab": {
          "base_uri": "https://localhost:8080/"
        },
        "id": "xzYZwU2VFPxX",
        "outputId": "bb8161b5-a5a6-4035-b3a6-04c999df6195"
      },
      "source": [
        "import random\n",
        "import math\n",
        "import heapq\n",
        "import numpy as np\n",
        "\n",
        "\n",
        "def a_expj_sample(prob, m):\n",
        "    \"\"\" 根据 prob 数组无放回随机抽取 m 个元素 \"\"\"\n",
        "    topn = []\n",
        "    for i, pi in enumerate(prob[:m]):\n",
        "        heapq.heappush(topn, (random.random() ** (1/pi), i))\n",
        "        \n",
        "    thres, w_sum = topn[0][0], 0\n",
        "    xw = math.log(random.random()) / math.log(thres)\n",
        "    i = m\n",
        "    for pi in prob[m:]:\n",
        "        if w_sum + pi >= xw:\n",
        "            tw = thres ** pi\n",
        "            r2 = random.uniform(tw, 1)\n",
        "            ki = r2 ** (1/pi)\n",
        "            heapq.heappop(topn)\n",
        "            heapq.heappush(topn, (ki, i))\n",
        "            thres = topn[0][0]\n",
        "            xw = math.log(random.random()) / math.log(thres)\n",
        "            w_sum = 0\n",
        "        else:\n",
        "            w_sum += pi\n",
        "        i += 1\n",
        "    return [item[1] for item in topn]\n",
        "\n",
        "\n",
        "probs = [0.1, 0.5, 0.2, 0.05, 0.15]\n",
        "\n",
        "for k in range(1, 4):\n",
        "    cnt = np.zeros(5)\n",
        "    for i in range(1000000):\n",
        "        for j in a_expj_sample(probs, k):\n",
        "            cnt[j] += 1\n",
        "    print(k, ':', cnt / 1000000 / k)"
      ],
      "execution_count": 95,
      "outputs": [
        {
          "output_type": "stream",
          "text": [
            "1 : [0.099579 0.50004  0.199411 0.050069 0.150901]\n",
            "2 : [0.123667  0.3975605 0.2340275 0.0635825 0.1811625]\n",
            "3 : [0.15280367 0.31326433 0.243917   0.081902   0.208113  ]\n"
          ],
          "name": "stdout"
        }
      ]
    },
    {
      "cell_type": "code",
      "metadata": {
        "id": "3g0-oKsiFQID"
      },
      "source": [
        ""
      ],
      "execution_count": null,
      "outputs": []
    }
  ]
}