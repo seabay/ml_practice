{
  "nbformat": 4,
  "nbformat_minor": 0,
  "metadata": {
    "colab": {
      "name": "decision_tree.ipynb",
      "provenance": [],
      "collapsed_sections": [],
      "authorship_tag": "ABX9TyMlfXxr9S4eWDAtebQThQFz",
      "include_colab_link": true
    },
    "kernelspec": {
      "name": "python3",
      "display_name": "Python 3"
    },
    "language_info": {
      "name": "python"
    }
  },
  "cells": [
    {
      "cell_type": "markdown",
      "metadata": {
        "id": "view-in-github",
        "colab_type": "text"
      },
      "source": [
        "<a href=\"https://colab.research.google.com/github/seabay/ml_practice/blob/master/decision_tree.ipynb\" target=\"_parent\"><img src=\"https://colab.research.google.com/assets/colab-badge.svg\" alt=\"Open In Colab\"/></a>"
      ]
    },
    {
      "cell_type": "code",
      "metadata": {
        "id": "-_6l9PQ6IZ8w"
      },
      "source": [
        "import numpy as np"
      ],
      "execution_count": 4,
      "outputs": []
    },
    {
      "cell_type": "code",
      "metadata": {
        "id": "VnPV56xXIfKC"
      },
      "source": [
        "\n",
        "class Node:\n",
        "\n",
        "  def __init__(self, f_index, val, l, r, is_leaf, data):\n",
        "    self.f_index=f_index\n",
        "    self.val=val\n",
        "    self.left=l\n",
        "    self.right=r\n",
        "    self.is_leaf=is_leaf\n",
        "    self.y=data\n",
        "\n",
        "  def __str__(self):\n",
        "    return str(self.f_index) + \", \" + str(self.val) + \", \" + str(self.is_leaf)\n",
        "\n",
        "\n",
        "class RegressionTree:\n",
        "\n",
        "  def __init__(self):\n",
        "    self.root=None\n",
        "\n",
        "  def mse(self, y):\n",
        "    if y.shape[0]==0: return 0\n",
        "    my = np.mean(y, axis=0)\n",
        "    return np.sum((y-my)*(y-my),axis=0)\n",
        "\n",
        "  def find_split(self, data):\n",
        "\n",
        "    f_size = data.shape[1]-1  ## exclude y\n",
        "    min_mse=float(\"+inf\")\n",
        "    f_i=None\n",
        "    f_v=None\n",
        "    f_d_l=None\n",
        "    f_d_r=None\n",
        "\n",
        "    for i in range(f_size):\n",
        "      vals = np.percentile(data[:, i], [25, 50, 75, 100])\n",
        "      print(vals)\n",
        "      d_l = None\n",
        "      d_r = None\n",
        "      for v in vals:\n",
        "        mask = data[:, i] <=v\n",
        "        d_l=data[mask, :]\n",
        "        d_r=data[~mask, :]  \n",
        "        mse_val=self.mse(d_l[:, -1]) + self.mse(d_r[:, -1])\n",
        "        #print(d_l.shape, d_r.shape, mse_val)\n",
        "        if mse_val<min_mse:\n",
        "          min_mse=mse_val\n",
        "          f_i=i\n",
        "          f_v=v\n",
        "          f_d_l=d_l\n",
        "          f_d_r=d_r\n",
        "\n",
        "    print(\"select: \", f_i, f_v)\n",
        "    print()\n",
        "    \n",
        "    return f_i, f_v, f_d_l, f_d_r\n",
        "\n",
        "\n",
        "  def fit(self, data):\n",
        "    self.root=self.fit_helper(data)\n",
        "  \n",
        "  def fit_helper(self, data):\n",
        "\n",
        "    if data.shape[0]<=2:\n",
        "      return Node(None, None, None, None, True, data[:, -1])\n",
        "    ret = self.find_split(data)\n",
        "    cnode=Node(ret[0], ret[1], None, None, False, None)\n",
        "    cnode.left=self.fit_helper(ret[2])\n",
        "    cnode.right=self.fit_helper(ret[3])\n",
        "    return cnode\n",
        "\n",
        "\n",
        "  def predict(self, data):\n",
        "\n",
        "    d=data.tolist()\n",
        "    ps=[]\n",
        "    for item in d:\n",
        "      n=self.root\n",
        "      while not n.is_leaf:\n",
        "        i=n.f_index\n",
        "        v=n.val\n",
        "        if item[i]<=v:\n",
        "          n=n.left\n",
        "        else: n=n.right\n",
        "\n",
        "      if n.is_leaf:\n",
        "        ps.append(np.mean(n.y))\n",
        "    \n",
        "    return np.concatenate([np.array(data), np.array(ps)[:, None]], axis=1)\n",
        "\n",
        "\n",
        "\n",
        "\n",
        "\n",
        "\n",
        "\n"
      ],
      "execution_count": 94,
      "outputs": []
    },
    {
      "cell_type": "code",
      "metadata": {
        "id": "W3anDHDfKox8"
      },
      "source": [
        "X=np.random.randn(30, 3) * np.sqrt(1/20)"
      ],
      "execution_count": 95,
      "outputs": []
    },
    {
      "cell_type": "code",
      "metadata": {
        "colab": {
          "base_uri": "https://localhost:8080/"
        },
        "id": "0didrF3aKq3q",
        "outputId": "8aeb6318-6b14-4b77-9bc1-298951db9fb3"
      },
      "source": [
        "X[:,-1]"
      ],
      "execution_count": 96,
      "outputs": [
        {
          "output_type": "execute_result",
          "data": {
            "text/plain": [
              "array([-0.16517177, -0.11388138, -0.00981753, -0.0088032 , -0.06991879,\n",
              "       -0.2332216 ,  0.2527685 ,  0.01230981,  0.04027444,  0.08807233,\n",
              "       -0.06450929, -0.03025672, -0.099153  ,  0.33695184,  0.10297544,\n",
              "        0.15340058,  0.14821389, -0.12515908, -0.1451662 , -0.05365323,\n",
              "       -0.18869403,  0.00252288, -0.08408438, -0.39112446, -0.08416915,\n",
              "        0.32479155, -0.12083745, -0.34628263, -0.18605494,  0.06005404])"
            ]
          },
          "metadata": {
            "tags": []
          },
          "execution_count": 96
        }
      ]
    },
    {
      "cell_type": "code",
      "metadata": {
        "id": "pjG-s0tqKrr0"
      },
      "source": [
        "y=np.random.randn(30, 1)"
      ],
      "execution_count": 97,
      "outputs": []
    },
    {
      "cell_type": "code",
      "metadata": {
        "id": "19gU2qWvVj_w"
      },
      "source": [
        "data=np.concatenate([X[0:25, :], y[0:25, :]],axis=1)"
      ],
      "execution_count": 98,
      "outputs": []
    },
    {
      "cell_type": "code",
      "metadata": {
        "id": "hT8hZAuqcx4k"
      },
      "source": [
        "test=np.concatenate([X[25:, :], y[25:, :]],axis=1)"
      ],
      "execution_count": 99,
      "outputs": []
    },
    {
      "cell_type": "code",
      "metadata": {
        "colab": {
          "base_uri": "https://localhost:8080/"
        },
        "id": "xc6AenqIVpRx",
        "outputId": "c1137eac-7f8b-49e3-bb5e-00260fa8067e"
      },
      "source": [
        "data.shape"
      ],
      "execution_count": 100,
      "outputs": [
        {
          "output_type": "execute_result",
          "data": {
            "text/plain": [
              "(25, 4)"
            ]
          },
          "metadata": {
            "tags": []
          },
          "execution_count": 100
        }
      ]
    },
    {
      "cell_type": "code",
      "metadata": {
        "colab": {
          "base_uri": "https://localhost:8080/"
        },
        "id": "FrOls54oc30N",
        "outputId": "c1e7bce6-92cb-45ae-bcad-ba69cdc348f2"
      },
      "source": [
        "test.shape"
      ],
      "execution_count": 101,
      "outputs": [
        {
          "output_type": "execute_result",
          "data": {
            "text/plain": [
              "(5, 4)"
            ]
          },
          "metadata": {
            "tags": []
          },
          "execution_count": 101
        }
      ]
    },
    {
      "cell_type": "code",
      "metadata": {
        "id": "rwBKP6nEVqYH"
      },
      "source": [
        "t=RegressionTree()"
      ],
      "execution_count": 102,
      "outputs": []
    },
    {
      "cell_type": "code",
      "metadata": {
        "id": "FH2SCJGUVs8C"
      },
      "source": [
        "#t.find_split(data)"
      ],
      "execution_count": 103,
      "outputs": []
    },
    {
      "cell_type": "code",
      "metadata": {
        "colab": {
          "base_uri": "https://localhost:8080/"
        },
        "id": "RSx5G2BFVuD4",
        "outputId": "2a9724ac-e367-4457-aaa7-4b884da1d19b"
      },
      "source": [
        "n=t.fit(data)"
      ],
      "execution_count": 104,
      "outputs": [
        {
          "output_type": "stream",
          "text": [
            "[-0.19479343 -0.07195022  0.15261597  0.47762782]\n",
            "[-0.14056708  0.04150299  0.19106192  0.45660026]\n",
            "[-0.11388138 -0.05365323  0.04027444  0.33695184]\n",
            "select:  1 -0.14056707713469624\n",
            "\n",
            "[0.02269555 0.08337925 0.29517549 0.46595211]\n",
            "[-0.25413153 -0.18831049 -0.15315325 -0.14056708]\n",
            "[-0.10651719 -0.03025672  0.15080724  0.2527685 ]\n",
            "select:  1 -0.25413153001825306\n",
            "\n",
            "[-0.02173847  0.08337925  0.2550039   0.33534709]\n",
            "[-0.18831049 -0.1550045  -0.151302   -0.14056708]\n",
            "[-0.11388138 -0.099153    0.15340058  0.2527685 ]\n",
            "select:  1 -0.15130200481251194\n",
            "\n",
            "[-0.0618393   0.16919157  0.27508969  0.33534709]\n",
            "[-0.202122   -0.17165749 -0.15407887 -0.151302  ]\n",
            "[-0.13258454 -0.10651719 -0.01117263  0.2527685 ]\n",
            "select:  0 -0.061839304312189966\n",
            "\n",
            "[0.16919157 0.2550039  0.29517549 0.33534709]\n",
            "[-0.21593352 -0.18831049 -0.16980625 -0.151302  ]\n",
            "[-0.1512877  -0.11388138  0.06944356  0.2527685 ]\n",
            "select:  0 0.25500389589937517\n",
            "\n",
            "[-0.21213672 -0.11878053  0.00404086  0.47762782]\n",
            "[0.02237309 0.05353906 0.22661276 0.45660026]\n",
            "[-0.1149116  -0.05908126  0.00986308  0.33695184]\n",
            "select:  0 0.004040861750664638\n",
            "\n",
            "[-0.2745058  -0.1826686  -0.11806497 -0.05517527]\n",
            "[0.04150299 0.05389832 0.25839073 0.45660026]\n",
            "[-0.08408438 -0.05365323  0.04027444  0.33695184]\n",
            "select:  2 -0.05365323383481701\n",
            "\n",
            "[-0.35154561 -0.2745058  -0.13881279 -0.07195022]\n",
            "[0.05247613 0.22715752 0.33188482 0.45660026]\n",
            "[-0.15869538 -0.08408438 -0.06721404 -0.05365323]\n",
            "select:  0 -0.3515456121483239\n",
            "\n",
            "[-0.2745058  -0.19479343 -0.08283215 -0.07195022]\n",
            "[0.05105394 0.22715752 0.25839073 0.45660026]\n",
            "[-0.2332216  -0.08416915 -0.06450929 -0.05365323]\n",
            "select:  2 -0.23322159984890992\n",
            "\n",
            "[-0.23464962 -0.19479343 -0.13881279 -0.08283215]\n",
            "[0.12157699 0.22715752 0.24277412 0.25839073]\n",
            "[-0.07433922 -0.06450929 -0.05908126 -0.05365323]\n",
            "select:  0 -0.23464961558097205\n",
            "\n",
            "[-0.1791448  -0.14403474 -0.11842275 -0.05517527]\n",
            "[-0.00235286  0.04338854  0.18005238  0.38026576]\n",
            "[0.00346621 0.06417339 0.09924967 0.33695184]\n",
            "select:  2 0.09924966607067681\n",
            "\n",
            "[-0.19148091 -0.175621   -0.15594629 -0.11806497]\n",
            "[0.02688437 0.04338854 0.09020018 0.22497847]\n",
            "[-0.00905678  0.01573562  0.05222392  0.08807233]\n",
            "select:  1 0.026884373124707574\n",
            "\n",
            "[-0.1932456  -0.16857339 -0.14331918 -0.11806497]\n",
            "[0.04338854 0.04527409 0.13512628 0.22497847]\n",
            "[-0.00931036 -0.0088032   0.03963457  0.08807233]\n",
            "select:  0 -0.19324560328213797\n",
            "\n",
            "[0.15261597 0.21920176 0.42023298 0.47762782]\n",
            "[-0.00799058  0.0531798   0.13330455  0.19106192]\n",
            "[-0.1451662  -0.12515908  0.00252288  0.01230981]\n",
            "select:  0 0.15261596888037718\n",
            "\n",
            "[0.31971737 0.42023298 0.4489304  0.47762782]\n",
            "[0.06265698 0.13330455 0.16218323 0.19106192]\n",
            "[-0.13516264 -0.12515908 -0.05642463  0.01230981]\n",
            "select:  0 0.4202329834138668\n",
            "\n"
          ],
          "name": "stdout"
        }
      ]
    },
    {
      "cell_type": "code",
      "metadata": {
        "id": "Za8feRZLY4Bu"
      },
      "source": [
        "predicts=t.predict(test)"
      ],
      "execution_count": 105,
      "outputs": []
    },
    {
      "cell_type": "code",
      "metadata": {
        "colab": {
          "base_uri": "https://localhost:8080/"
        },
        "id": "77q2JQL-ZWxT",
        "outputId": "2d363b37-baf4-4017-aadd-bf2bd058549a"
      },
      "source": [
        "predicts"
      ],
      "execution_count": 106,
      "outputs": [
        {
          "output_type": "execute_result",
          "data": {
            "text/plain": [
              "array([[ 0.16109923, -0.05686799,  0.32479155,  1.19752503,  1.05689551],\n",
              "       [ 0.11768796, -0.14071309, -0.12083745,  0.06787457,  0.62885777],\n",
              "       [-0.2817895 ,  0.17656166, -0.34628263,  0.12009405,  0.00750235],\n",
              "       [ 0.08646051,  0.06435416, -0.18605494,  1.35130389,  1.89465993],\n",
              "       [ 0.11397557, -0.29141067,  0.06005404, -1.53481391,  0.4669313 ]])"
            ]
          },
          "metadata": {
            "tags": []
          },
          "execution_count": 106
        }
      ]
    },
    {
      "cell_type": "code",
      "metadata": {
        "colab": {
          "base_uri": "https://localhost:8080/",
          "height": 35
        },
        "id": "xyZzKvgkZuiy",
        "outputId": "e5213f0b-4a86-447b-ad82-160cb386a9af"
      },
      "source": [
        ""
      ],
      "execution_count": 45,
      "outputs": [
        {
          "output_type": "execute_result",
          "data": {
            "application/vnd.google.colaboratory.intrinsic+json": {
              "type": "string"
            },
            "text/plain": [
              "'<__main__.Node object at 0x7f296c105dd0>'"
            ]
          },
          "metadata": {
            "tags": []
          },
          "execution_count": 45
        }
      ]
    },
    {
      "cell_type": "code",
      "metadata": {
        "id": "EjqbmjmNZwRZ"
      },
      "source": [
        ""
      ],
      "execution_count": null,
      "outputs": []
    }
  ]
}