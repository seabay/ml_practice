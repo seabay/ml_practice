{
  "nbformat": 4,
  "nbformat_minor": 0,
  "metadata": {
    "colab": {
      "name": "Reject-sampling.ipynb",
      "provenance": [],
      "collapsed_sections": [],
      "authorship_tag": "ABX9TyMEZNmlItUhe4jjddF9iLek",
      "include_colab_link": true
    },
    "kernelspec": {
      "name": "python3",
      "display_name": "Python 3"
    },
    "language_info": {
      "name": "python"
    }
  },
  "cells": [
    {
      "cell_type": "markdown",
      "metadata": {
        "id": "view-in-github",
        "colab_type": "text"
      },
      "source": [
        "<a href=\"https://colab.research.google.com/github/seabay/ml_practice/blob/master/Reject_sampling.ipynb\" target=\"_parent\"><img src=\"https://colab.research.google.com/assets/colab-badge.svg\" alt=\"Open In Colab\"/></a>"
      ]
    },
    {
      "cell_type": "code",
      "metadata": {
        "id": "eXS9QKQ7N46I"
      },
      "source": [
        "import numpy as np\n",
        "from matplotlib import pyplot as plt\n",
        "from scipy.stats import norm\n",
        "import math"
      ],
      "execution_count": 3,
      "outputs": []
    },
    {
      "cell_type": "code",
      "metadata": {
        "id": "RfDvNe4JOH8R"
      },
      "source": [
        "mu=15\n",
        "sigma=5\n",
        "\n",
        "x=np.arange(0, 30, 0.001) # entire range of x, both in and out of spec\n",
        "y=norm.pdf(x, mu, sigma)"
      ],
      "execution_count": 4,
      "outputs": []
    },
    {
      "cell_type": "code",
      "metadata": {
        "colab": {
          "base_uri": "https://localhost:8080/",
          "height": 282
        },
        "id": "FJfZ6SKfQFpl",
        "outputId": "1375028c-819a-4818-e62a-4a376704dbfe"
      },
      "source": [
        "plt.plot(x, y)"
      ],
      "execution_count": 5,
      "outputs": [
        {
          "output_type": "execute_result",
          "data": {
            "text/plain": [
              "[<matplotlib.lines.Line2D at 0x7f829a242990>]"
            ]
          },
          "metadata": {
            "tags": []
          },
          "execution_count": 5
        },
        {
          "output_type": "display_data",
          "data": {
            "image/png": "[encoded data removed]",
            "text/plain": [
              "<Figure size 432x288 with 1 Axes>"
            ]
          },
          "metadata": {
            "tags": [],
            "needs_background": "light"
          }
        }
      ]
    },
    {
      "cell_type": "code",
      "metadata": {
        "id": "gQ1Lk-cZO_4S"
      },
      "source": [
        "# g(x): y=x*0.00222\n",
        "# M=3\n",
        "\n",
        "NUM_HISTOGRAM_BUCKETS=100\n",
        "rngRange=30\n",
        "NUM_TEST_SAMPLES=20000\n",
        "\n",
        "def icdf_g():\n",
        "  x=np.random.uniform(0,1,1)[0]\n",
        "  return 1000.0 * np.sqrt(x) / np.sqrt(1111.0)\n",
        "\n",
        "def pdf_f(x):\n",
        "  return norm.pdf(x, 15, 5)\n",
        "\n",
        "def pdf_g(x):\n",
        "  return x*0.00222\n",
        "\n",
        "def sample(M=3):\n",
        "\n",
        "    samples=[]\n",
        "\n",
        "    histogram=[0]*NUM_HISTOGRAM_BUCKETS\n",
        "    fhistogram=[0]*NUM_HISTOGRAM_BUCKETS\n",
        "\n",
        "    for i in range(NUM_TEST_SAMPLES):\n",
        "\n",
        "        accept=False\n",
        "        while not accept:\n",
        "\n",
        "            s=icdf_g()\n",
        "            fp=pdf_f(s)\n",
        "            gp=pdf_g(s)*M\n",
        "\n",
        "            v=fp/gp\n",
        "            r=np.random.uniform(0,1)\n",
        "\n",
        "            accept=(r<=v)\n",
        "\n",
        "            if accept:\n",
        "                bin = math.floor(s * float(NUM_HISTOGRAM_BUCKETS) / rngRange);\n",
        "                histogram[min(bin, NUM_HISTOGRAM_BUCKETS - 1)] +=1; \n",
        "            else:\n",
        "                bin = math.floor(s * float(NUM_HISTOGRAM_BUCKETS) / rngRange);\n",
        "                fhistogram[min(bin, NUM_HISTOGRAM_BUCKETS - 1)] +=1;     \n",
        "\n",
        "    return histogram\n"
      ],
      "execution_count": 7,
      "outputs": []
    },
    {
      "cell_type": "code",
      "metadata": {
        "id": "uxlCSx_HbUCd"
      },
      "source": [
        "ret =sample()"
      ],
      "execution_count": 8,
      "outputs": []
    },
    {
      "cell_type": "code",
      "metadata": {
        "id": "53r5Lsy4cfD4"
      },
      "source": [
        "ret1=[NUM_HISTOGRAM_BUCKETS * float(ret[i]) / (float(NUM_TEST_SAMPLES)*rngRange) for i in range(NUM_HISTOGRAM_BUCKETS)]"
      ],
      "execution_count": 11,
      "outputs": []
    },
    {
      "cell_type": "code",
      "metadata": {
        "id": "hizDJ10Vc-Vm"
      },
      "source": [
        "fvs1=[pdf_f((float(i) + 0.5) * rngRange / float(NUM_HISTOGRAM_BUCKETS)) for i in range(NUM_HISTOGRAM_BUCKETS)]"
      ],
      "execution_count": 12,
      "outputs": []
    },
    {
      "cell_type": "code",
      "metadata": {
        "colab": {
          "base_uri": "https://localhost:8080/",
          "height": 282
        },
        "id": "BWdVHFe3bXbr",
        "outputId": "9c49c941-0db5-452f-f1e0-4a5de0471893"
      },
      "source": [
        "plt.plot(ret1, c='r')\n",
        "plt.plot(fvs1, c='b')"
      ],
      "execution_count": 13,
      "outputs": [
        {
          "output_type": "execute_result",
          "data": {
            "text/plain": [
              "[<matplotlib.lines.Line2D at 0x7f8299ced1d0>]"
            ]
          },
          "metadata": {
            "tags": []
          },
          "execution_count": 13
        },
        {
          "output_type": "display_data",
          "data": {
            "image/png": "[encoded data removed]",
            "text/plain": [
              "<Figure size 432x288 with 1 Axes>"
            ]
          },
          "metadata": {
            "tags": [],
            "needs_background": "light"
          }
        }
      ]
    },
    {
      "cell_type": "code",
      "metadata": {
        "id": "MOxekLBqdHHP"
      },
      "source": [
        ""
      ],
      "execution_count": null,
      "outputs": []
    }
  ]
}