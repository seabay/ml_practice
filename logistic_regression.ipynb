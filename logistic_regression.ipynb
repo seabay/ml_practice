{
  "nbformat": 4,
  "nbformat_minor": 0,
  "metadata": {
    "colab": {
      "name": "logistic regression.ipynb",
      "provenance": [],
      "collapsed_sections": [],
      "authorship_tag": "ABX9TyN4wWo50FeALG4yaqokc+CN",
      "include_colab_link": true
    },
    "kernelspec": {
      "name": "python3",
      "display_name": "Python 3"
    },
    "language_info": {
      "name": "python"
    }
  },
  "cells": [
    {
      "cell_type": "markdown",
      "metadata": {
        "id": "view-in-github",
        "colab_type": "text"
      },
      "source": [
        "<a href=\"https://colab.research.google.com/github/seabay/ml_practice/blob/master/logistic_regression.ipynb\" target=\"_parent\"><img src=\"https://colab.research.google.com/assets/colab-badge.svg\" alt=\"Open In Colab\"/></a>"
      ]
    },
    {
      "cell_type": "code",
      "metadata": {
        "id": "5mufqtvMY0WA"
      },
      "source": [
        "import numpy as np"
      ],
      "execution_count": 6,
      "outputs": []
    },
    {
      "cell_type": "code",
      "metadata": {
        "id": "5UDZL5fFY5kk"
      },
      "source": [
        "class LR:\n",
        "\n",
        "  def __init__(self, feature_size, lr):\n",
        "    self.W=np.random.randn(feature_size, 1)/np.sqrt(feature_size)\n",
        "    self.b=np.random.randn(1)\n",
        "    self.lr=lr\n",
        "  \n",
        "  def sigmoid(self, x):\n",
        "    return np.where(x >= 0, \n",
        "                    1 / (1 + np.exp(-x)), \n",
        "                    np.exp(x) / (1 + np.exp(x)))\n",
        "\n",
        "  def lossf(self, o, y):\n",
        "    loss= (-1.0/y.shape[0]) * np.sum((y*np.log(o) + (1-y)*np.log(1-o)))\n",
        "    return loss\n",
        "\n",
        "  def forward(self, X):\n",
        "    return self.sigmoid(X @ self.W + self.b)\n",
        "\n",
        "  def out_g(self, out, y):\n",
        "    return (out-y[:,None])/X.shape[0]  # 10*1\n",
        "\n",
        "  def lin_g(self, outg, X, y):\n",
        "    gw = X.T @ outg\n",
        "    gb = np.sum(outg, axis=0)\n",
        "    return gw, gb\n",
        "\n",
        "  def forward_backward(self, X, y):\n",
        "    out=self.forward(X)\n",
        "    loss=self.lossf(out, y)\n",
        "    print(loss)\n",
        "    outg=self.out_g(out, y)\n",
        "    return self.lin_g(outg, X, y)\n",
        "  \n",
        "  def step(self, gw, gb):\n",
        "    self.W = self.W - self.lr*gw\n",
        "    self.b = self.b - self.lr*gb"
      ],
      "execution_count": 157,
      "outputs": []
    },
    {
      "cell_type": "code",
      "metadata": {
        "id": "nU1CdNu6X4FN"
      },
      "source": [
        "#stg 就是使用一个 sample 计算 gradient， g=x1 * (p1-y1)\n",
        "###那么两个 samples， g=mean(  (x1*(p1-y1) + x2(p2-y2))\n",
        "#所以 mini-batch gd, g=mean(  (x1*(p1-y1) + x2(p2-y2) + ... + xm(pm-ym)\n",
        "#所以 GD 就是 使用全部 samples 计算 gradient"
      ],
      "execution_count": 158,
      "outputs": []
    },
    {
      "cell_type": "code",
      "metadata": {
        "id": "rOb9byrMa6sm"
      },
      "source": [
        "X=np.random.randn(20, 3) * np.sqrt(1/20)"
      ],
      "execution_count": 159,
      "outputs": []
    },
    {
      "cell_type": "code",
      "metadata": {
        "id": "v_vbmCiqeiwL"
      },
      "source": [
        "y=np.concatenate([np.ones(9), np.zeros(11)], axis=0)"
      ],
      "execution_count": 160,
      "outputs": []
    },
    {
      "cell_type": "code",
      "metadata": {
        "colab": {
          "base_uri": "https://localhost:8080/"
        },
        "id": "p-cTI8QqejKA",
        "outputId": "b012c42e-1ec0-4d34-a5db-ec67a7894eec"
      },
      "source": [
        "X"
      ],
      "execution_count": 161,
      "outputs": [
        {
          "output_type": "execute_result",
          "data": {
            "text/plain": [
              "array([[ 0.04846674,  0.15739246, -0.11431988],\n",
              "       [ 0.45011989,  0.30959869,  0.03124626],\n",
              "       [ 0.29414511,  0.26796946,  0.05989224],\n",
              "       [-0.00430198,  0.00103071,  0.24614582],\n",
              "       [-0.15958143, -0.23907288, -0.18546112],\n",
              "       [ 0.0329128 , -0.13322795,  0.07919485],\n",
              "       [ 0.00461232,  0.36900494, -0.10154796],\n",
              "       [-0.32190206,  0.07463848, -0.23402086],\n",
              "       [-0.2369208 , -0.12624357, -0.00893871],\n",
              "       [ 0.06460721, -0.07281993, -0.09472818],\n",
              "       [-0.24519153,  0.01849871,  0.09248031],\n",
              "       [ 0.13855338,  0.05506742,  0.53638751],\n",
              "       [ 0.2671003 , -0.14126191, -0.23588512],\n",
              "       [ 0.03121922,  0.05799824, -0.12355381],\n",
              "       [-0.25701043, -0.04735335,  0.18214652],\n",
              "       [ 0.14913763, -0.11865811, -0.42251524],\n",
              "       [ 0.01532671,  0.33861525,  0.45376773],\n",
              "       [-0.01255848,  0.20512331, -0.15587581],\n",
              "       [ 0.15331874, -0.12870766,  0.15272819],\n",
              "       [ 0.10427229, -0.17873568,  0.10170679]])"
            ]
          },
          "metadata": {
            "tags": []
          },
          "execution_count": 161
        }
      ]
    },
    {
      "cell_type": "code",
      "metadata": {
        "colab": {
          "base_uri": "https://localhost:8080/"
        },
        "id": "nViLp8LYfAcX",
        "outputId": "96ff202c-426f-435e-a738-99b19cbf955f"
      },
      "source": [
        "y"
      ],
      "execution_count": 162,
      "outputs": [
        {
          "output_type": "execute_result",
          "data": {
            "text/plain": [
              "array([1., 1., 1., 1., 1., 1., 1., 1., 1., 0., 0., 0., 0., 0., 0., 0., 0.,\n",
              "       0., 0., 0.])"
            ]
          },
          "metadata": {
            "tags": []
          },
          "execution_count": 162
        }
      ]
    },
    {
      "cell_type": "code",
      "metadata": {
        "colab": {
          "base_uri": "https://localhost:8080/"
        },
        "id": "DegSGS1vfytL",
        "outputId": "76a7e8f6-943d-40b5-df56-477ef5046ccb"
      },
      "source": [
        "X.shape[1]"
      ],
      "execution_count": 163,
      "outputs": [
        {
          "output_type": "execute_result",
          "data": {
            "text/plain": [
              "3"
            ]
          },
          "metadata": {
            "tags": []
          },
          "execution_count": 163
        }
      ]
    },
    {
      "cell_type": "code",
      "metadata": {
        "id": "K3nd0Z3UfBFq"
      },
      "source": [
        "lr=LR(X.shape[1], 0.5)"
      ],
      "execution_count": 173,
      "outputs": []
    },
    {
      "cell_type": "code",
      "metadata": {
        "id": "QqCY3_safJzl"
      },
      "source": [
        "#out=lr.forward(X)\n",
        "#out"
      ],
      "execution_count": 167,
      "outputs": []
    },
    {
      "cell_type": "code",
      "metadata": {
        "id": "aUV5u8nnfN4u"
      },
      "source": [
        "#lr.lin_g(out, X, y)"
      ],
      "execution_count": 168,
      "outputs": []
    },
    {
      "cell_type": "code",
      "metadata": {
        "id": "92mqmzMYg6py"
      },
      "source": [
        "#lr.backward(X, y)"
      ],
      "execution_count": 169,
      "outputs": []
    },
    {
      "cell_type": "code",
      "metadata": {
        "colab": {
          "base_uri": "https://localhost:8080/"
        },
        "id": "OJgnaRywkpiJ",
        "outputId": "7617ab1f-a122-45ff-9733-371883bea6ba"
      },
      "source": [
        "for i in range(20):\n",
        "  gw, gb=lr.forward_backward(X, y)\n",
        "  lr.step(gw, gb)"
      ],
      "execution_count": 174,
      "outputs": [
        {
          "output_type": "stream",
          "text": [
            "16.315097706018623\n",
            "15.829862815577323\n",
            "15.444645477536007\n",
            "15.140986330835828\n",
            "14.902916957101958\n",
            "14.717026087374443\n",
            "14.572300160165979\n",
            "14.459846795063823\n",
            "14.372577092390035\n",
            "14.30489317620018\n",
            "14.252405373595511\n",
            "14.211688944522288\n",
            "14.180081745301079\n",
            "14.155519767008906\n",
            "14.136405594638484\n",
            "14.121504389233744\n",
            "14.109862297178166\n",
            "14.100742817139926\n",
            "14.093577372061157\n",
            "14.087927022394982\n"
          ],
          "name": "stdout"
        }
      ]
    },
    {
      "cell_type": "code",
      "metadata": {
        "id": "ZIWU36BxlBWE"
      },
      "source": [
        ""
      ],
      "execution_count": null,
      "outputs": []
    }
  ]
}