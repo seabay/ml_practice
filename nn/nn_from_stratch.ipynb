{
  "nbformat": 4,
  "nbformat_minor": 0,
  "metadata": {
    "colab": {
      "name": "nn_from_stratch.ipynb",
      "provenance": [],
      "collapsed_sections": []
    },
    "kernelspec": {
      "name": "python3",
      "display_name": "Python 3"
    }
  },
  "cells": [
    {
      "cell_type": "code",
      "metadata": {
        "id": "PGeLkyqhHm39",
        "colab_type": "code",
        "colab": {}
      },
      "source": [
        "import numpy as np"
      ],
      "execution_count": 2,
      "outputs": []
    },
    {
      "cell_type": "code",
      "metadata": {
        "id": "sAgDL20WHsaf",
        "colab_type": "code",
        "colab": {}
      },
      "source": [
        "x = np.random.randn(10, 3)\n",
        "y = np.random.randn(10)"
      ],
      "execution_count": 11,
      "outputs": []
    },
    {
      "cell_type": "code",
      "metadata": {
        "id": "pot5FaFyHA7k",
        "colab_type": "code",
        "colab": {
          "base_uri": "https://localhost:8080/",
          "height": 190
        },
        "outputId": "8cb2fff2-67c5-4427-8a05-fe9feabe9a19"
      },
      "source": [
        "x"
      ],
      "execution_count": 12,
      "outputs": [
        {
          "output_type": "execute_result",
          "data": {
            "text/plain": [
              "array([[-1.7779962 ,  0.19853146,  0.23778656],\n",
              "       [ 0.64141533, -1.3368982 ,  1.99191679],\n",
              "       [ 1.69879377,  0.64847001, -2.02972031],\n",
              "       [ 1.41569591,  0.33884995,  0.19275896],\n",
              "       [ 0.21150504,  0.68735492,  0.71685357],\n",
              "       [ 1.31780076,  0.57098502, -0.21134747],\n",
              "       [ 0.27072493,  0.57297188,  0.46318015],\n",
              "       [ 0.2495258 , -0.05514597, -0.2701909 ],\n",
              "       [-0.61133382, -1.47884903,  1.00651454],\n",
              "       [-0.5196045 ,  1.2533374 , -1.45812528]])"
            ]
          },
          "metadata": {
            "tags": []
          },
          "execution_count": 12
        }
      ]
    },
    {
      "cell_type": "code",
      "metadata": {
        "id": "FQNmWt-6HB-M",
        "colab_type": "code",
        "colab": {
          "base_uri": "https://localhost:8080/",
          "height": 52
        },
        "outputId": "ed3bf151-615a-44ab-8410-811d9d27cb63"
      },
      "source": [
        "y"
      ],
      "execution_count": 13,
      "outputs": [
        {
          "output_type": "execute_result",
          "data": {
            "text/plain": [
              "array([-0.31948175, -0.60969577, -1.43225591,  1.14377358, -0.20525413,\n",
              "        0.58452102, -0.20711154, -1.98584903, -0.77516144,  1.27109852])"
            ]
          },
          "metadata": {
            "tags": []
          },
          "execution_count": 13
        }
      ]
    },
    {
      "cell_type": "code",
      "metadata": {
        "id": "WRk63rlpH0Hm",
        "colab_type": "code",
        "colab": {
          "base_uri": "https://localhost:8080/",
          "height": 121
        },
        "outputId": "0df7fd69-3049-408a-b635-9707866a4a41"
      },
      "source": [
        "w1 = np.random.randn(3, 5)\n",
        "b1 = np.zeros(5)\n",
        "w1, b1"
      ],
      "execution_count": 14,
      "outputs": [
        {
          "output_type": "execute_result",
          "data": {
            "text/plain": [
              "(array([[-3.80335600e-01,  1.80134041e+00,  7.29511514e-01,\n",
              "          1.65536710e+00,  5.11525426e-01],\n",
              "        [ 2.92144476e-04,  5.94903373e-01,  2.00421364e-02,\n",
              "          1.59611772e+00,  1.88325531e+00],\n",
              "        [-3.16781198e-01, -2.60326968e-01,  3.40013349e+00,\n",
              "         -7.84725816e-01, -1.58403387e+00]]), array([0., 0., 0., 0., 0.]))"
            ]
          },
          "metadata": {
            "tags": []
          },
          "execution_count": 14
        }
      ]
    },
    {
      "cell_type": "code",
      "metadata": {
        "id": "Iz9NyJBlH7yD",
        "colab_type": "code",
        "colab": {
          "base_uri": "https://localhost:8080/",
          "height": 104
        },
        "outputId": "48c078b9-ac6c-4971-a4b1-260a68e764a4"
      },
      "source": [
        "w2 = np.random.randn(5, 1)\n",
        "b2 = np.zeros(1)\n",
        "w2, b2"
      ],
      "execution_count": 15,
      "outputs": [
        {
          "output_type": "execute_result",
          "data": {
            "text/plain": [
              "(array([[ 0.42216265],\n",
              "        [-0.09277455],\n",
              "        [-0.71966734],\n",
              "        [ 1.20353958],\n",
              "        [-0.76768458]]), array([0.]))"
            ]
          },
          "metadata": {
            "tags": []
          },
          "execution_count": 15
        }
      ]
    },
    {
      "cell_type": "code",
      "metadata": {
        "id": "m24Y-a_8IYP1",
        "colab_type": "code",
        "colab": {}
      },
      "source": [
        "def lin(x, w, b):\n",
        "  return x@w + b"
      ],
      "execution_count": 16,
      "outputs": []
    },
    {
      "cell_type": "code",
      "metadata": {
        "id": "WeOrAuNSIfdY",
        "colab_type": "code",
        "colab": {}
      },
      "source": [
        "def relu(x):\n",
        "  return np.maximum(x, 0)"
      ],
      "execution_count": 17,
      "outputs": []
    },
    {
      "cell_type": "code",
      "metadata": {
        "id": "9nyiDzaeITZe",
        "colab_type": "code",
        "colab": {}
      },
      "source": [
        "def forward(x, w1, b1, w2, b2):\n",
        "  a1 = lin(x, w1, b1)\n",
        "  print(a1.shape)\n",
        "  x2 = relu(a1)\n",
        "  print(x2.shape)\n",
        "  a2 = lin(x2, w2, b2)\n",
        "  return a2"
      ],
      "execution_count": 18,
      "outputs": []
    },
    {
      "cell_type": "code",
      "metadata": {
        "id": "vhCxpBCQI5Zz",
        "colab_type": "code",
        "colab": {
          "base_uri": "https://localhost:8080/",
          "height": 225
        },
        "outputId": "3ad4191c-81b2-4adc-9701-e56225b55d1c"
      },
      "source": [
        "out = forward(x, w1, b1, w2, b2)\n",
        "out"
      ],
      "execution_count": 19,
      "outputs": [
        {
          "output_type": "stream",
          "text": [
            "(10, 5)\n",
            "(10, 5)\n"
          ],
          "name": "stdout"
        },
        {
          "output_type": "execute_result",
          "data": {
            "text/plain": [
              "array([[ 0.25370579],\n",
              "       [-5.19161436],\n",
              "       [ 2.10562611],\n",
              "       [ 1.00750334],\n",
              "       [-1.07136325],\n",
              "       [ 1.88214894],\n",
              "       [-0.51831093],\n",
              "       [ 0.25437259],\n",
              "       [-2.12062174],\n",
              "       [-0.37050517]])"
            ]
          },
          "metadata": {
            "tags": []
          },
          "execution_count": 19
        }
      ]
    },
    {
      "cell_type": "code",
      "metadata": {
        "id": "N3amzQfxI7y_",
        "colab_type": "code",
        "colab": {}
      },
      "source": [
        "def mse(inp, targ):\n",
        "  return np.mean((inp.squeeze(1)-targ)**2)"
      ],
      "execution_count": 26,
      "outputs": []
    },
    {
      "cell_type": "code",
      "metadata": {
        "id": "McVXElBfLulW",
        "colab_type": "code",
        "colab": {
          "base_uri": "https://localhost:8080/",
          "height": 52
        },
        "outputId": "0ac81963-347e-4067-92b9-585af522cfe7"
      },
      "source": [
        "(y-out.squeeze(1))"
      ],
      "execution_count": 187,
      "outputs": [
        {
          "output_type": "execute_result",
          "data": {
            "text/plain": [
              "array([1.28741348, 2.11100578, 1.6502652 , 2.57710496, 3.70565303,\n",
              "       2.55043151, 2.1423987 , 9.6371785 , 0.80936452, 2.49091534])"
            ]
          },
          "metadata": {
            "tags": []
          },
          "execution_count": 187
        }
      ]
    },
    {
      "cell_type": "code",
      "metadata": {
        "id": "dJ5OS1oBK_MG",
        "colab_type": "code",
        "colab": {
          "base_uri": "https://localhost:8080/",
          "height": 52
        },
        "outputId": "ed06b3ed-3113-44e6-de0a-64e081775018"
      },
      "source": [
        "(y-out.squeeze(1)) ** 2"
      ],
      "execution_count": 188,
      "outputs": [
        {
          "output_type": "execute_result",
          "data": {
            "text/plain": [
              "array([ 1.65743346,  4.45634541,  2.72337522,  6.64146996, 13.73186441,\n",
              "        6.50470087,  4.58987221, 92.8752094 ,  0.65507092,  6.20465921])"
            ]
          },
          "metadata": {
            "tags": []
          },
          "execution_count": 188
        }
      ]
    },
    {
      "cell_type": "code",
      "metadata": {
        "id": "jx5bsP9OJws2",
        "colab_type": "code",
        "colab": {
          "base_uri": "https://localhost:8080/",
          "height": 35
        },
        "outputId": "b75418f5-3455-43b8-c52f-57c19b9ee063"
      },
      "source": [
        "mse(out, y)"
      ],
      "execution_count": 189,
      "outputs": [
        {
          "output_type": "execute_result",
          "data": {
            "text/plain": [
              "14.004000106400582"
            ]
          },
          "metadata": {
            "tags": []
          },
          "execution_count": 189
        }
      ]
    },
    {
      "cell_type": "code",
      "metadata": {
        "id": "hETSxkSvKxzT",
        "colab_type": "code",
        "colab": {}
      },
      "source": [
        "def out_g(inp, targ):\n",
        "  return (2 * (inp.squeeze(1) - targ))[:, None] / inp.shape[0]"
      ],
      "execution_count": 24,
      "outputs": []
    },
    {
      "cell_type": "code",
      "metadata": {
        "id": "66RZrq5SMNsH",
        "colab_type": "code",
        "colab": {}
      },
      "source": [
        "def relu_g(inp, out_g):\n",
        "  return (inp>0).astype(float) * out_g"
      ],
      "execution_count": 23,
      "outputs": []
    },
    {
      "cell_type": "code",
      "metadata": {
        "id": "5e2yFSUSMuls",
        "colab_type": "code",
        "colab": {}
      },
      "source": [
        "def lin_g(inp, out_g, w):\n",
        "  inp_g = out_g @ w.T\n",
        "  w_g = inp.T @ out_g\n",
        "  b_g = np.sum(out_g, axis=0)  #\n",
        "\n",
        "  return inp_g, w_g, b_g"
      ],
      "execution_count": 22,
      "outputs": []
    },
    {
      "cell_type": "code",
      "metadata": {
        "id": "G2XhbQhENlKH",
        "colab_type": "code",
        "colab": {}
      },
      "source": [
        "def forward_backward(x, w1, b1, w2, b2, y):\n",
        "  a1 = lin(x, w1, b1)\n",
        "  x2 = relu(a1)\n",
        "  a2 = lin(x2, w2, b2)\n",
        "\n",
        "  loss = mse(a2, y)\n",
        "\n",
        "  out1_g = out_g(a2, y)\n",
        "  out2_g, w2_g, b2_g = lin_g(x2, out1_g, w2)\n",
        "  out3_g = relu_g(a1, out2_g)\n",
        "  out4_g, w1_g, b1_g = lin_g(x, out3_g, w1)\n",
        "\n",
        "  print(loss, '\\n\\n', out1_g, '\\n\\n',out2_g, '\\n\\n', w2_g,  '\\n\\n', b2_g, '\\n\\n', out3_g, '\\n\\n', out4_g, '\\n\\n', w1_g, '\\n\\n', b1_g)"
      ],
      "execution_count": 28,
      "outputs": []
    },
    {
      "cell_type": "code",
      "metadata": {
        "id": "1RFbnxWKUJtu",
        "colab_type": "code",
        "colab": {
          "base_uri": "https://localhost:8080/",
          "height": 35
        },
        "outputId": "55848fba-983a-4d05-d30f-b170a3a5604f"
      },
      "source": [
        "x.shape, w1.shape, w2.shape, b1.shape, b2.shape"
      ],
      "execution_count": 20,
      "outputs": [
        {
          "output_type": "execute_result",
          "data": {
            "text/plain": [
              "((10, 3), (3, 5), (5, 1), (5,), (1,))"
            ]
          },
          "metadata": {
            "tags": []
          },
          "execution_count": 20
        }
      ]
    },
    {
      "cell_type": "code",
      "metadata": {
        "id": "FJpMZQ9eV4j4",
        "colab_type": "code",
        "colab": {
          "base_uri": "https://localhost:8080/",
          "height": 52
        },
        "outputId": "a9ef3b73-57ec-4e37-94b3-efff26526dfa"
      },
      "source": [
        "y"
      ],
      "execution_count": 193,
      "outputs": [
        {
          "output_type": "execute_result",
          "data": {
            "text/plain": [
              "array([ 1.28741348, -0.81030968,  0.45697248,  0.81380649, -1.66993953,\n",
              "       -0.62140601,  1.0671858 , -0.69394796, -0.63207742,  1.10506959])"
            ]
          },
          "metadata": {
            "tags": []
          },
          "execution_count": 193
        }
      ]
    },
    {
      "cell_type": "code",
      "metadata": {
        "id": "bxFGeaT_V5zQ",
        "colab_type": "code",
        "colab": {
          "base_uri": "https://localhost:8080/",
          "height": 190
        },
        "outputId": "b45ed296-7a2f-4e49-8d13-fdde55112890"
      },
      "source": [
        "out"
      ],
      "execution_count": 194,
      "outputs": [
        {
          "output_type": "execute_result",
          "data": {
            "text/plain": [
              "array([[  0.        ],\n",
              "       [ -2.92131546],\n",
              "       [ -1.19329272],\n",
              "       [ -1.76329847],\n",
              "       [ -5.37559257],\n",
              "       [ -3.17183752],\n",
              "       [ -1.0752129 ],\n",
              "       [-10.33112645],\n",
              "       [ -1.44144194],\n",
              "       [ -1.38584575]])"
            ]
          },
          "metadata": {
            "tags": []
          },
          "execution_count": 194
        }
      ]
    },
    {
      "cell_type": "code",
      "metadata": {
        "id": "c6LsgJ5NOjEK",
        "colab_type": "code",
        "colab": {
          "base_uri": "https://localhost:8080/",
          "height": 1000
        },
        "outputId": "4a45bf58-1b94-40ba-db08-8a0683ed9a24"
      },
      "source": [
        "forward_backward(x, w1, b1, w2, b2, y)"
      ],
      "execution_count": 29,
      "outputs": [
        {
          "output_type": "stream",
          "text": [
            "4.591224790675014 \n",
            "\n",
            " [[ 0.11463751]\n",
            " [-0.91638372]\n",
            " [ 0.7075764 ]\n",
            " [-0.02725405]\n",
            " [-0.17322182]\n",
            " [ 0.25952558]\n",
            " [-0.06223988]\n",
            " [ 0.44804432]\n",
            " [-0.26909206]\n",
            " [-0.32832074]] \n",
            "\n",
            " [[ 0.04839567 -0.01063544 -0.08250087  0.13797078 -0.08800545]\n",
            " [-0.38686297  0.08501709  0.65949143 -1.10290408  0.70349365]\n",
            " [ 0.29871233 -0.06564508 -0.50921963  0.85159621 -0.5431955 ]\n",
            " [-0.01150564  0.00252848  0.01961385 -0.03280133  0.02092251]\n",
            " [-0.07312778  0.01607058  0.12466209 -0.20847932  0.13297972]\n",
            " [ 0.10956201 -0.02407737 -0.18677209  0.31234931 -0.19923379]\n",
            " [-0.02627535  0.00577428  0.04479201 -0.07490816  0.0477806 ]\n",
            " [ 0.18914758 -0.04156711 -0.32244287  0.53923908 -0.34395672]\n",
            " [-0.11360062  0.02496489  0.19365677 -0.32386295  0.20657783]\n",
            " [-0.13860475  0.03045981  0.23628171 -0.395147    0.25204677]] \n",
            "\n",
            " [[-0.14776449]\n",
            " [ 3.46448608]\n",
            " [-7.94621186]\n",
            " [ 3.89550675]\n",
            " [ 2.94604713]] \n",
            "\n",
            " [-0.24672845] \n",
            "\n",
            " [[ 0.04839567 -0.         -0.          0.         -0.        ]\n",
            " [-0.          0.          0.65949143 -0.          0.        ]\n",
            " [ 0.         -0.06564508 -0.          0.85159621 -0.5431955 ]\n",
            " [-0.          0.00252848  0.01961385 -0.03280133  0.02092251]\n",
            " [-0.          0.01607058  0.12466209 -0.20847932  0.13297972]\n",
            " [ 0.         -0.02407737 -0.18677209  0.31234931 -0.19923379]\n",
            " [-0.          0.00577428  0.04479201 -0.07490816  0.0477806 ]\n",
            " [ 0.         -0.04156711 -0.          0.53923908 -0.34395672]\n",
            " [-0.          0.          0.19365677 -0.          0.        ]\n",
            " [-0.13860475  0.03045981  0.         -0.395147    0.25204677]] \n",
            "\n",
            " [[-1.84065977e-02  1.41385289e-05 -1.53308396e-02]\n",
            " [ 4.81106591e-01  1.32176172e-02  2.24235889e+00]\n",
            " [ 1.01359690e+00  2.97219516e-01  2.09259719e-01]\n",
            " [-2.47326547e-02 -1.10550390e-02  5.86295521e-02]\n",
            " [-1.57196291e-01 -7.02638335e-02  3.72638855e-01]\n",
            " [ 2.35515702e-01  1.05271161e-01 -5.58297533e-01]\n",
            " [-5.64817880e-02 -2.52463141e-02  1.33891892e-01]\n",
            " [ 6.41819508e-01  1.88202315e-01  1.32505308e-01]\n",
            " [ 1.41274841e-01  3.88129533e-03  6.58458856e-01]\n",
            " [-4.17600215e-01 -1.37952569e-01 -5.31906939e-02]] \n",
            "\n",
            " [[-1.40276728e-02 -1.60903939e-01  1.24750803e-01  2.08736408e+00\n",
            "  -1.33143708e+00]\n",
            " [-1.64110455e-01 -6.36544062e-04 -1.15670828e+00  8.25771712e-03\n",
            "  -5.26723192e-03]\n",
            " [ 2.13610932e-01  1.19828852e-01  1.66193619e+00 -1.55450788e+00\n",
            "   9.91551712e-01]] \n",
            "\n",
            " [-0.09020908 -0.07645642  0.85544406  0.99184879 -0.6326564 ]\n"
          ],
          "name": "stdout"
        }
      ]
    },
    {
      "cell_type": "code",
      "metadata": {
        "id": "gdTHmsFJOo7-",
        "colab_type": "code",
        "colab": {}
      },
      "source": [
        ""
      ],
      "execution_count": null,
      "outputs": []
    }
  ]
}
