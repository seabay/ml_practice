{
  "nbformat": 4,
  "nbformat_minor": 0,
  "metadata": {
    "colab": {
      "name": "Metropolis-Sampling.ipynb",
      "provenance": [],
      "collapsed_sections": [],
      "authorship_tag": "ABX9TyMzujmQbwKvjXvA0gCyXoEQ",
      "include_colab_link": true
    },
    "kernelspec": {
      "name": "python3",
      "display_name": "Python 3"
    },
    "language_info": {
      "name": "python"
    }
  },
  "cells": [
    {
      "cell_type": "markdown",
      "metadata": {
        "id": "view-in-github",
        "colab_type": "text"
      },
      "source": [
        "<a href=\"https://colab.research.google.com/github/seabay/ml_practice/blob/master/Metropolis_Sampling.ipynb\" target=\"_parent\"><img src=\"https://colab.research.google.com/assets/colab-badge.svg\" alt=\"Open In Colab\"/></a>"
      ]
    },
    {
      "cell_type": "code",
      "metadata": {
        "id": "ExHiXKDA_58Y"
      },
      "source": [
        "import numpy as np\n",
        "from matplotlib import pyplot as plt\n",
        "from scipy.stats import norm\n",
        "import math"
      ],
      "execution_count": 1,
      "outputs": []
    },
    {
      "cell_type": "code",
      "metadata": {
        "id": "n5Ns6g7u__BI"
      },
      "source": [
        "mu=15\n",
        "sigma=5\n",
        "\n",
        "x=np.arange(0, 30, 0.001) # entire range of x, both in and out of spec\n",
        "y=norm.pdf(x, mu, sigma)"
      ],
      "execution_count": 2,
      "outputs": []
    },
    {
      "cell_type": "code",
      "metadata": {
        "colab": {
          "base_uri": "https://localhost:8080/",
          "height": 282
        },
        "id": "ZekZWLEUABk8",
        "outputId": "6236f11f-3796-4b38-8846-d71885f9e4ca"
      },
      "source": [
        "plt.plot(x, y)"
      ],
      "execution_count": 3,
      "outputs": [
        {
          "output_type": "execute_result",
          "data": {
            "text/plain": [
              "[<matplotlib.lines.Line2D at 0x7f920b201e90>]"
            ]
          },
          "metadata": {
            "tags": []
          },
          "execution_count": 3
        },
        {
          "output_type": "display_data",
          "data": {
            "image/png": "[encoded data removed]",
            "text/plain": [
              "<Figure size 432x288 with 1 Axes>"
            ]
          },
          "metadata": {
            "tags": [],
            "needs_background": "light"
          }
        }
      ]
    },
    {
      "cell_type": "code",
      "metadata": {
        "id": "yTF8PWDzAESy"
      },
      "source": [
        "def pdf_f(x):\n",
        "  return norm.pdf(x, 15, 5)"
      ],
      "execution_count": 4,
      "outputs": []
    },
    {
      "cell_type": "code",
      "metadata": {
        "id": "mfzfOPg-AGm7"
      },
      "source": [
        "# https://blog.demofox.org/2019/05/25/generating-random-numbers-from-a-specific-distribution-with-the-metropolis-algorithm-mcmc/\n",
        "NUM_TEST_SAMPLES=80000\n",
        "NUM_HISTOGRAM_BUCKETS=100\n",
        "rngRange=30\n",
        "def sample():\n",
        "\n",
        "    histogram=[0]*NUM_HISTOGRAM_BUCKETS\n",
        "    start=15.0\n",
        "    y=pdf_f(start)\n",
        "    for i in range(NUM_TEST_SAMPLES):\n",
        "        nstart = start + np.random.normal(0, 0.2, 1)[0]\n",
        "        ny=pdf_f(nstart)\n",
        "        a=ny/y\n",
        "        if a>=1 or np.random.uniform(0,1)<a:\n",
        "            start=nstart\n",
        "            y=ny\n",
        "            bin = math.floor(start * float(NUM_HISTOGRAM_BUCKETS) / rngRange);\n",
        "            histogram[min(bin, NUM_HISTOGRAM_BUCKETS - 1)] +=1;\n",
        "\n",
        "    return histogram\n",
        "\n",
        "        "
      ],
      "execution_count": 79,
      "outputs": []
    },
    {
      "cell_type": "code",
      "metadata": {
        "id": "el80n9-2BtYv"
      },
      "source": [
        "ret=sample()"
      ],
      "execution_count": 80,
      "outputs": []
    },
    {
      "cell_type": "code",
      "metadata": {
        "id": "glwroPs8Bv3v"
      },
      "source": [
        "ret1=[NUM_HISTOGRAM_BUCKETS * float(ret[i]) / (float(NUM_TEST_SAMPLES)*rngRange) for i in range(NUM_HISTOGRAM_BUCKETS)]"
      ],
      "execution_count": 81,
      "outputs": []
    },
    {
      "cell_type": "code",
      "metadata": {
        "colab": {
          "base_uri": "https://localhost:8080/",
          "height": 282
        },
        "id": "5-QlmxrPCnTb",
        "outputId": "d6b90fe8-5c7c-4d72-dcd0-54ad4892463e"
      },
      "source": [
        "plt.plot(ret1)"
      ],
      "execution_count": 82,
      "outputs": [
        {
          "output_type": "execute_result",
          "data": {
            "text/plain": [
              "[<matplotlib.lines.Line2D at 0x7f92056f4dd0>]"
            ]
          },
          "metadata": {
            "tags": []
          },
          "execution_count": 82
        },
        {
          "output_type": "display_data",
          "data": {
            "image/png": "[encoded data removed]",
            "text/plain": [
              "<Figure size 432x288 with 1 Axes>"
            ]
          },
          "metadata": {
            "tags": [],
            "needs_background": "light"
          }
        }
      ]
    },
    {
      "cell_type": "code",
      "metadata": {
        "id": "IAWFDF_4C3av"
      },
      "source": [
        ""
      ],
      "execution_count": 82,
      "outputs": []
    }
  ]
}